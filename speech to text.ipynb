{
 "cells": [
  {
   "cell_type": "code",
   "execution_count": 1,
   "metadata": {},
   "outputs": [
    {
     "name": "stdout",
     "output_type": "stream",
     "text": [
      "Output Text: we are looking for a flutter expert to work remotely without distributed team we are a Swiss company with team members spread across Europe and Asia where is Silicon Valley style startup well funded managed by experienced founder we are part of the trend towards decentralization of media communication of money we are us mat we want to sleep guest experience we can possibly create with laughter and are using it is our main mobile per from our product is enormous fun to work on\n"
     ]
    }
   ],
   "source": [
    "import speech_recognition as sr\n",
    "recognizer = sr.Recognizer()\n",
    "\n",
    "#with recorded file\n",
    "filename = \"Recording.wav\"\n",
    "with sr.AudioFile(filename) as source:\n",
    "    audio_data = recognizer.record(source)\n",
    "    text = recognizer.recognize_google(audio_data, language= \"en-AU\")\n",
    "    print(\"Output Text: \"+text)"
   ]
  },
  {
   "cell_type": "code",
   "execution_count": 2,
   "metadata": {},
   "outputs": [
    {
     "name": "stdout",
     "output_type": "stream",
     "text": [
      "Adjusting noise.......\n",
      "Say Something (Recording for 4 seconds): .......\n",
      "Recognizing your speech....... \n",
      "Text: use the built-in microphone of the laptop or external one which receive the voice signal and convert it into text\n"
     ]
    }
   ],
   "source": [
    "#with built in microphone\n",
    "with sr.Microphone() as source:\n",
    "    print(\"Adjusting noise.......\")\n",
    "    recognizer.adjust_for_ambient_noise(source, duration=2)\n",
    "    print(\"Say Something (Recording for 4 seconds): .......\")\n",
    "    recognizer\n",
    "    audio_text = recognizer.listen(source,timeout=4)\n",
    "    try:\n",
    "        print( \"Recognizing your speech....... \")\n",
    "        output_text = recognizer.recognize_google(audio_text,language= \"en-AU\")\n",
    "        print(\"Text: \"+output_text)\n",
    "    except:\n",
    "         print(\"Sorry, I did not get that\")"
   ]
  }
 ],
 "metadata": {
  "interpreter": {
   "hash": "172d0ac36f065219bd12c4b99a298d6a561b4d7f03633e984fafcfebb5e4f9fc"
  },
  "kernelspec": {
   "display_name": "Python 3.10.2 64-bit",
   "language": "python",
   "name": "python3"
  },
  "language_info": {
   "codemirror_mode": {
    "name": "ipython",
    "version": 3
   },
   "file_extension": ".py",
   "mimetype": "text/x-python",
   "name": "python",
   "nbconvert_exporter": "python",
   "pygments_lexer": "ipython3",
   "version": "3.10.2"
  },
  "orig_nbformat": 4
 },
 "nbformat": 4,
 "nbformat_minor": 2
}
